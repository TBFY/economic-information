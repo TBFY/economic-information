{
  "nbformat": 4,
  "nbformat_minor": 0,
  "metadata": {
    "colab": {
      "name": "OCDS.ipynb",
      "provenance": [],
      "toc_visible": true
    },
    "kernelspec": {
      "name": "python3",
      "display_name": "Python 3"
    }
  },
  "cells": [
    {
      "cell_type": "markdown",
      "metadata": {
        "id": "nKOP-VfWqSmQ",
        "colab_type": "text"
      },
      "source": [
        "![TBFY-Banner](https://raw.githubusercontent.com/TBFY/general/master/figures/tbfy-banner.png)\n"
      ]
    },
    {
      "cell_type": "markdown",
      "metadata": {
        "id": "iLzGQzuF3V2V",
        "colab_type": "text"
      },
      "source": [
        "# **INTRODUCTION**\n",
        "We will solve several issues using the api devellop\n",
        "\n"
      ]
    },
    {
      "cell_type": "markdown",
      "metadata": {
        "id": "BpIrBPbe6CIT",
        "colab_type": "text"
      },
      "source": [
        "# **1) Obtain all contracts awarded by the Zaragoza City Council**."
      ]
    },
    {
      "cell_type": "markdown",
      "metadata": {
        "id": "eRvd-VXE7GdB",
        "colab_type": "text"
      },
      "source": [
        "First we will have to look for the id of the city council within the organizations."
      ]
    },
    {
      "cell_type": "code",
      "metadata": {
        "id": "RbqCbgaF6QcP",
        "colab_type": "code",
        "colab": {}
      },
      "source": [
        "pip install requests"
      ],
      "execution_count": 0,
      "outputs": []
    },
    {
      "cell_type": "code",
      "metadata": {
        "id": "px9VnIVopYVp",
        "colab_type": "code",
        "colab": {}
      },
      "source": [
        "import requests\n",
        "\n",
        "class APIError(Exception):\n",
        "    \"\"\"An API Error Exception\"\"\"\n",
        "\n",
        "    def __init__(self, status):\n",
        "        self.status = status\n",
        "\n",
        "    def __str__(self):\n",
        "        return \"APIError: status={}\".format(self.status)\n",
        "      \n",
        "def RetrieveField(json,field):\n",
        "  value=''\n",
        "  try: \n",
        "    value = json[field]\n",
        "  except:\n",
        "    print()\n",
        "  return value\n",
        "\n",
        "resp = requests.get('https://www.zaragoza.es/sede/servicio/contratacion-publica/ocds/organisation.json')\n",
        "if resp.status_code != 200:\n",
        "    # This means something went wrong.\n",
        "    raise ApiError('GET /tasks/ {}'.format(resp.status_code))\n",
        "for todo_item in resp.json():\n",
        "    print('{} {}'.format(todo_item['id'], todo_item['name']))"
      ],
      "execution_count": 0,
      "outputs": []
    },
    {
      "cell_type": "markdown",
      "metadata": {
        "id": "sFW-O8VO2-OK",
        "colab_type": "text"
      },
      "source": [
        "by default 50 records are shown to get more use the rows parameter"
      ]
    },
    {
      "cell_type": "code",
      "metadata": {
        "id": "TmuZ_0lF2_np",
        "colab_type": "code",
        "colab": {}
      },
      "source": [
        "resp = requests.get('https://www.zaragoza.es/sede/servicio/contratacion-publica/ocds/organisation.json?rows=100')\n",
        "if resp.status_code != 200:\n",
        "    # This means something went wrong.\n",
        "    raise ApiError('GET /tasks/ {}'.format(resp.status_code))\n",
        "for todo_item in resp.json():\n",
        "    print('{} {}'.format(todo_item['id'], todo_item['name']))"
      ],
      "execution_count": 0,
      "outputs": []
    },
    {
      "cell_type": "markdown",
      "metadata": {
        "id": "KZeHPtl6GTWT",
        "colab_type": "text"
      },
      "source": [
        "with the id we can already search the awarded ocds-1-buyer AYUNTAMIENTO DE ZARAGOZA"
      ]
    },
    {
      "cell_type": "markdown",
      "metadata": {
        "id": "F51ite-73Bk8",
        "colab_type": "text"
      },
      "source": [
        ""
      ]
    },
    {
      "cell_type": "code",
      "metadata": {
        "id": "VFgZypKmGsSk",
        "colab_type": "code",
        "colab": {}
      },
      "source": [
        "resp = requests.get('https://www.zaragoza.es/sede/servicio/contratacion-publica/ocds/organisation/ocds-1-buyer/award.json')\n",
        "if resp.status_code != 200:\n",
        "    # This means something went wrong.\n",
        "    raise ApiError('GET /tasks/ {}'.format(resp.status_code))\n",
        "for todo_item in resp.json():\n",
        "    print('Id: {} '.format(todo_item['id']))\n",
        "    print('Title: {} '.format(todo_item['title']))\n",
        "    print('Description: {} '.format(todo_item['description']))\n"
      ],
      "execution_count": 0,
      "outputs": []
    },
    {
      "cell_type": "markdown",
      "metadata": {
        "id": "xULmFFPVKLOG",
        "colab_type": "text"
      },
      "source": [
        "# *2) Obtain the contracts that Zaragoza Vivienda has in the bidding phase.*"
      ]
    },
    {
      "cell_type": "markdown",
      "metadata": {
        "id": "7u17eec0-y_O",
        "colab_type": "text"
      },
      "source": [
        "First search tenders with status active"
      ]
    },
    {
      "cell_type": "code",
      "metadata": {
        "id": "Uaa-aaRg9jV4",
        "colab_type": "code",
        "colab": {}
      },
      "source": [
        "resp = requests.get('https://www.zaragoza.es/sede/servicio/contratacion-publica/ocds/tender.json?status=active&rows=50')\n",
        "if resp.status_code != 200:\n",
        "    # This means something went wrong.\n",
        "    raise ApiError('GET /tasks/ {}'.format(resp.status_code))\n",
        "for todo_item in resp.json():\n",
        "    print('{} {}'.format(todo_item['id'], todo_item['title']))"
      ],
      "execution_count": 0,
      "outputs": []
    },
    {
      "cell_type": "markdown",
      "metadata": {
        "id": "l-41FavS_txi",
        "colab_type": "text"
      },
      "source": [
        "Second show the contracting-process associate to the tender for know the buyer"
      ]
    },
    {
      "cell_type": "code",
      "metadata": {
        "id": "VI6ZD74e_-u8",
        "colab_type": "code",
        "colab": {}
      },
      "source": [
        "resp = requests.get('https://www.zaragoza.es/sede/servicio/contratacion-publica/ocds/tender/ocds-4422-tender/contracting-process.json')\n",
        "if resp.status_code != 200:\n",
        "    # This means something went wrong.\n",
        "    raise ApiError('GET /tasks/ {}'.format(resp.status_code))\n",
        "for todo_item in resp.json():\n",
        "    print('{} {}'.format(todo_item['id'], todo_item['parties'][0]['name']))"
      ],
      "execution_count": 0,
      "outputs": []
    },
    {
      "cell_type": "markdown",
      "metadata": {
        "id": "yxUahBRBC85G",
        "colab_type": "text"
      },
      "source": [
        "Now no exist tenders in the bidding phase"
      ]
    }
  ]
}